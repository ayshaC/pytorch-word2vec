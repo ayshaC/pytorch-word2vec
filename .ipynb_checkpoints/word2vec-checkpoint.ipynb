{
 "cells": [
  {
   "cell_type": "markdown",
   "metadata": {},
   "source": [
    "## Pytorch word2vec model"
   ]
  },
  {
   "cell_type": "markdown",
   "metadata": {},
   "source": [
    "The first step is to load a text file and read the in the words. Next, words are put into pairs based on their proximity. To do this, a window size is set, and we loop through the text. For each word, a pair is created with itself and any words within the window size. For example, in the sentence \"The quick brown fox jumps over the lazy \" with a window size of three, the pairs would be ('fox','The'), ('fox','quick'), ('fox','brown'), ('fox','jumps'), ('fox','over'), ('fox','the'), ('jumps','quick'), etc. (we start at 'fox' because the window size is three and it is the fourth word)"
   ]
  },
  {
   "cell_type": "code",
   "execution_count": 6,
   "metadata": {
    "collapsed": false
   },
   "outputs": [
    {
     "name": "stdout",
     "output_type": "stream",
     "text": [
      "29010\n",
      "len pairs: 29964\n",
      "len X train: 23971\n",
      "len y train: 23971\n",
      "len X val: 5993\n",
      "len y val: 5993\n",
      "pear 1: 1141 1256\n",
      "['the', 'project', 'gutenberg', 'ebook', 'of', 'the', 'strange', 'case', 'of', 'dr']\n",
      "1141\n"
     ]
    }
   ],
   "source": [
    "import os\n",
    "import string\n",
    "import re\n",
    "import numpy as np\n",
    "\n",
    "import torch\n",
    "from torch.autograd import Variable\n",
    "from torch import nn\n",
    "\n",
    "from torch.nn.functional import binary_cross_entropy,softmax, nll_loss, log_softmax\n",
    "import json\n",
    "\n",
    "# Open and read text file\n",
    "path = \"./jekyll_and_hyde.txt\"\n",
    "text_file = open(path, 'r')\n",
    "new = text_file.read()\n",
    "\n",
    "# Remove punctuation and separate words\n",
    "def clean_words(file):\n",
    "    clean = re.sub(\"[^a-zA-Z']\",\" \", file)\n",
    "    clean = clean.lower()\n",
    "    words = clean.split()\n",
    "    return words\n",
    "\n",
    "words = clean_words(new)\n",
    "print(len(words))\n",
    "words = words[:5000]\n",
    "\n",
    "# Unique words\n",
    "vocab = list(set(words))\n",
    "\n",
    "# Words paired with their index in vocab so we can use for word embeddings\n",
    "vocab_dict = {word:i for i,word in enumerate(vocab)}\n",
    "\n",
    "split=0.8\n",
    "\n",
    "with open(\"vocab_dict.txt\", \"w\") as f:\n",
    "    f.write(json.dumps(vocab_dict))\n",
    "\n",
    "# Here we create word pairs which consist of a context word and nearby words\n",
    "def create_pairs(words, dictionary, window_size):\n",
    "    pairs = []\n",
    "    for index in range(window_size, len(words) - window_size):\n",
    "        for i in range(1,window_size+1):\n",
    "            pairs.append([dictionary[words[index]],dictionary[words[index-i]]])\n",
    "            pairs.append([dictionary[words[index]],dictionary[words[index+i]]])\n",
    "    return(pairs)\n",
    "\n",
    "pears = np.array(create_pairs(words,vocab_dict, 3))\n",
    "print(\"len pairs: \" + str(len(pears)))\n",
    "\n",
    "# Divide pairs into training and testing\n",
    "a= int(np.floor(len(pears)*split))\n",
    "\n",
    "# Create training and validation data\n",
    "data_X_train = pears[:a,0]\n",
    "data_y_train = pears[:a,1]\n",
    "\n",
    "data_X_val = pears[a:,0]\n",
    "data_y_val = pears[a:,1]\n",
    "\n",
    "X = Variable(torch.from_numpy(data_X_train),requires_grad=False).long()\n",
    "y = Variable(torch.from_numpy(data_y_train),requires_grad=False).long() \n",
    "\n",
    "X_val = Variable(torch.from_numpy(data_X_val),requires_grad=False).long()\n",
    "y_val = Variable(torch.from_numpy(data_y_val,),requires_grad=False).long() \n",
    "\n",
    "print(\"len X train: \" + str(len(X)))\n",
    "print(\"len y train: \" + str(len(y)))\n",
    "print(\"len X val: \" + str(len(X_val)))\n",
    "print(\"len y val: \" + str(len(y_val)))\n",
    "print(\"pear 1: \" + str(data_X_train[10]) + \" \" + str(data_y_train[10]))\n",
    "\n",
    "print(words[:10])\n",
    "print(vocab_dict[\"of\"])\n"
   ]
  },
  {
   "cell_type": "markdown",
   "metadata": {},
   "source": [
    "Next, we build the pytorch neural net. The weights in this network represent the word embeddings we're looking for. "
   ]
  },
  {
   "cell_type": "code",
   "execution_count": 7,
   "metadata": {
    "collapsed": true
   },
   "outputs": [],
   "source": [
    "# Word2Vec Model \n",
    "\n",
    "class Model(torch.nn.Module):\n",
    "    def __init__(self, num_emb, emb_size):        \n",
    "        super(Model, self).__init__()\n",
    "#         Create initial word embeddings \n",
    "        self.emb1 = torch.nn.Embedding(num_emb, emb_size)\n",
    "    \n",
    "#     Weights, which will be updated with each cycle and represent the final word vectors\n",
    "        self.W = torch.nn.Parameter(torch.rand(emb_size,num_emb))\n",
    "        \n",
    "    \n",
    "    def forward(self,x):\n",
    "#         Create word embeddings\n",
    "        x = self.emb1(x)\n",
    "#     Multiply word embeddings with weights\n",
    "        x = torch.matmul(x,self.W)\n",
    "        \n",
    "        return log_softmax(x,dim=1)     "
   ]
  },
  {
   "cell_type": "code",
   "execution_count": 8,
   "metadata": {
    "collapsed": true
   },
   "outputs": [],
   "source": [
    "model = Model(len(vocab), 100)"
   ]
  },
  {
   "cell_type": "code",
   "execution_count": 9,
   "metadata": {
    "collapsed": true
   },
   "outputs": [],
   "source": [
    "optimizer = torch.optim.Adam(model.parameters())"
   ]
  },
  {
   "cell_type": "markdown",
   "metadata": {},
   "source": [
    "Run the model"
   ]
  },
  {
   "cell_type": "code",
   "execution_count": 10,
   "metadata": {
    "collapsed": false
   },
   "outputs": [
    {
     "name": "stdout",
     "output_type": "stream",
     "text": [
      "step 199\r"
     ]
    }
   ],
   "source": [
    "\n",
    "#A list to keep all the losses#A list  \n",
    "losses=[]\n",
    "losses_val = []\n",
    "\n",
    "for i in range(200):\n",
    "    print(\"step %d\"%i,end=\"\\r\")\n",
    "\n",
    "    y_pred = model.forward(X)\n",
    "    loss = nll_loss(y_pred, y)\n",
    "    losses.append(loss.data[0])\n",
    "    \n",
    "    y_pred_val = model.forward(X_val)\n",
    "    loss_val = nll_loss(y_pred_val, y_val)\n",
    "    losses_val.append(loss_val.data[0])\n",
    "    \n",
    "#     print(loss.data[0])\n",
    "    \n",
    "\n",
    "    optimizer.zero_grad() \n",
    "    loss.backward()\n",
    "    optimizer.step()"
   ]
  },
  {
   "cell_type": "code",
   "execution_count": 12,
   "metadata": {
    "collapsed": false
   },
   "outputs": [
    {
     "data": {
      "image/png": "[encoded data removed]",
      "text/plain": [
       "<matplotlib.figure.Figure at 0x7fb923c48860>"
      ]
     },
     "metadata": {},
     "output_type": "display_data"
    },
    {
     "name": "stdout",
     "output_type": "stream",
     "text": [
      "6.108494281768799\n",
      "8.154465675354004\n"
     ]
    }
   ],
   "source": [
    "import matplotlib.pyplot as plt\n",
    "plt.figure(figsize=(8,8))\n",
    "plt.plot(losses)\n",
    "plt.plot(losses_val)\n",
    "plt.show()\n",
    "print(losses[199])\n",
    "print(losses_val[199])\n",
    "\n",
    "torch.save(model.state_dict(), 'test.pt')\n",
    "# model = torch.load('test.pt')"
   ]
  },
  {
   "cell_type": "markdown",
   "metadata": {},
   "source": [
    "Here, we get the weights from the neural net and test them for similar words"
   ]
  },
  {
   "cell_type": "code",
   "execution_count": 14,
   "metadata": {
    "collapsed": false
   },
   "outputs": [
    {
     "name": "stdout",
     "output_type": "stream",
     "text": [
      "1208\n",
      "961\n",
      "[[0.93666514]]\n"
     ]
    }
   ],
   "source": [
    "from scipy.spatial.distance import cdist\n",
    "\n",
    "girl_index=vocab_dict['girl']\n",
    "\n",
    "params = []\n",
    "filename=\"parameters.txt\"\n",
    "\n",
    "with open(\"parameters.txt\", \"w\") as f:\n",
    "    for param in model.parameters():\n",
    "        for thing in param:\n",
    "            f.write(str(thing.data))\n",
    "        params.append(param.data)\n",
    "\n",
    "embeddings = params[1].numpy()\n",
    "# print(len(embeddings))\n",
    "np.transpose(embeddings)\n",
    "# print(len(embeddings))\n",
    "\n",
    "\n",
    "def get_distance(word1, word2, emb, dist_type):\n",
    "    index1=vocab_dict[word1]\n",
    "    index2=vocab_dict[word2]\n",
    "    \n",
    "    print(index1)\n",
    "    print(index2)\n",
    "    \n",
    "    emb1=[emb[index1]]\n",
    "    emb2=[emb[index2]]\n",
    "    \n",
    "    distance = cdist(emb1, emb2, dist_type)\n",
    "    \n",
    "    return distance\n",
    "\n",
    "print(get_distance('person', 'girl', embeddings, 'cosine'))\n",
    "\n",
    "\n",
    "# distance1 = cdist(girl, woman, 'euclidean')\n",
    "# distance2 = cdist(woman, panels, 'euclidean')\n",
    "# distance3 = cdist(chair, table, 'euclidean')\n",
    "# distance4 = cdist(woman, rugged, 'euclidean')\n",
    "# print(distance1)\n",
    "# print(distance2)\n",
    "# print(distance3)\n",
    "# print(distance4)\n",
    "\n",
    "# C = params[1].numpy()[np.argmin(cdist(girl,params[1].numpy()),1)] \n",
    "# print(np.argmin(cdist(table,params[1][:1405].numpy(), 'cosine'),1))\n",
    "# print(vocab[987])\n"
   ]
  },
  {
   "cell_type": "markdown",
   "metadata": {},
   "source": [
    "Although the loss did decrease throughout training, it seems like similar words don't actually have similar vectors. Let's adjust some parameters and see if that helps.\n",
    "Results:"
   ]
  },
  {
   "cell_type": "code",
   "execution_count": 6,
   "metadata": {
    "collapsed": false
   },
   "outputs": [
    {
     "data": {
      "text/html": [
       "<div>\n",
       "<table border=\"1\" class=\"dataframe\">\n",
       "  <thead>\n",
       "    <tr style=\"text-align: right;\">\n",
       "      <th></th>\n",
       "      <th>number of words</th>\n",
       "      <th>embedding length</th>\n",
       "      <th>cycles</th>\n",
       "      <th>final training loss</th>\n",
       "      <th>final validation loss</th>\n",
       "    </tr>\n",
       "  </thead>\n",
       "  <tbody>\n",
       "    <tr>\n",
       "      <th>0</th>\n",
       "      <td>5000</td>\n",
       "      <td>100</td>\n",
       "      <td>500</td>\n",
       "      <td>4.15</td>\n",
       "      <td>8.20</td>\n",
       "    </tr>\n",
       "    <tr>\n",
       "      <th>1</th>\n",
       "      <td>10000</td>\n",
       "      <td>100</td>\n",
       "      <td>500</td>\n",
       "      <td>4.72</td>\n",
       "      <td>7.37</td>\n",
       "    </tr>\n",
       "    <tr>\n",
       "      <th>2</th>\n",
       "      <td>10000</td>\n",
       "      <td>50</td>\n",
       "      <td>500</td>\n",
       "      <td>5.30</td>\n",
       "      <td>7.19</td>\n",
       "    </tr>\n",
       "    <tr>\n",
       "      <th>3</th>\n",
       "      <td>20000</td>\n",
       "      <td>50</td>\n",
       "      <td>500</td>\n",
       "      <td>5.62</td>\n",
       "      <td>7.30</td>\n",
       "    </tr>\n",
       "  </tbody>\n",
       "</table>\n",
       "</div>"
      ],
      "text/plain": [
       "   number of words  embedding length  cycles  final training loss  \\\n",
       "0             5000               100     500                 4.15   \n",
       "1            10000               100     500                 4.72   \n",
       "2            10000                50     500                 5.30   \n",
       "3            20000                50     500                 5.62   \n",
       "\n",
       "   final validation loss  \n",
       "0                   8.20  \n",
       "1                   7.37  \n",
       "2                   7.19  \n",
       "3                   7.30  "
      ]
     },
     "execution_count": 6,
     "metadata": {},
     "output_type": "execute_result"
    }
   ],
   "source": [
    "import pandas as pd\n",
    "from pandas import Series, DataFrame\n",
    "\n",
    "data = {'number of words': [5000, 10000, 10000, 20000], \n",
    "        'embedding length': [100, 100, 50, 50], \n",
    "        'cycles': [500, 500, 500, 500],\n",
    "        'final training loss': [4.15, 4.72, 5.30, 5.62],\n",
    "        'final validation loss': [8.20, 7.37, 7.19, 7.30]}\n",
    "\n",
    "frame = DataFrame(data)\n",
    "frame = frame[['number of words', 'embedding length', \n",
    "               'cycles', 'final training loss', 'final validation loss']]\n",
    "frame.sort_values(by=['number of words'], ascending=True)"
   ]
  },
  {
   "cell_type": "markdown",
   "metadata": {},
   "source": [
    "It seems like increasing the number of words decreases the validation loss to a certain extent. "
   ]
  },
  {
   "cell_type": "markdown",
   "metadata": {},
   "source": [
    "Another trial was done where common words were removed (words like \"the\" or \"a\" are used in proximity to lots of different words regardless of their meaning so shouldn't be included). Results:"
   ]
  },
  {
   "cell_type": "code",
   "execution_count": 9,
   "metadata": {
    "collapsed": false
   },
   "outputs": [
    {
     "data": {
      "text/html": [
       "<div>\n",
       "<table border=\"1\" class=\"dataframe\">\n",
       "  <thead>\n",
       "    <tr style=\"text-align: right;\">\n",
       "      <th></th>\n",
       "      <th>number of words</th>\n",
       "      <th>embedding length</th>\n",
       "      <th>cycles</th>\n",
       "      <th>window size</th>\n",
       "      <th>final training loss</th>\n",
       "      <th>final validation loss</th>\n",
       "    </tr>\n",
       "  </thead>\n",
       "  <tbody>\n",
       "    <tr>\n",
       "      <th>0</th>\n",
       "      <td>30000</td>\n",
       "      <td>100</td>\n",
       "      <td>500</td>\n",
       "      <td>3</td>\n",
       "      <td>3.69</td>\n",
       "      <td>10.93</td>\n",
       "    </tr>\n",
       "    <tr>\n",
       "      <th>1</th>\n",
       "      <td>30000</td>\n",
       "      <td>100</td>\n",
       "      <td>500</td>\n",
       "      <td>5</td>\n",
       "      <td>4.64</td>\n",
       "      <td>10.22</td>\n",
       "    </tr>\n",
       "  </tbody>\n",
       "</table>\n",
       "</div>"
      ],
      "text/plain": [
       "   number of words  embedding length  cycles  window size  \\\n",
       "0            30000               100     500            3   \n",
       "1            30000               100     500            5   \n",
       "\n",
       "   final training loss  final validation loss  \n",
       "0                 3.69                  10.93  \n",
       "1                 4.64                  10.22  "
      ]
     },
     "execution_count": 9,
     "metadata": {},
     "output_type": "execute_result"
    }
   ],
   "source": [
    "data = {'number of words': [30000, 30000], \n",
    "        'embedding length': [100, 100], \n",
    "        'cycles': [500, 500],\n",
    "        'window size': [3, 5],\n",
    "        'final training loss': [3.69, 4.64],\n",
    "        'final validation loss': [10.93, 10.22]}\n",
    "\n",
    "frame = DataFrame(data)\n",
    "frame = frame[['number of words', 'embedding length', \n",
    "               'cycles', 'window size', 'final training loss', 'final validation loss']]\n",
    "frame.sort_values(by=['number of words'], ascending=True)"
   ]
  },
  {
   "cell_type": "markdown",
   "metadata": {},
   "source": [
    "This didn't help with the final validation loss."
   ]
  },
  {
   "cell_type": "markdown",
   "metadata": {},
   "source": [
    "Next steps are to implement negative sampling (only update some of the weights on each cycle), and try removing rare and common words"
   ]
  }
 ],
 "metadata": {
  "kernelspec": {
   "display_name": "Python [default]",
   "language": "python",
   "name": "python3"
  },
  "language_info": {
   "codemirror_mode": {
    "name": "ipython",
    "version": 3
   },
   "file_extension": ".py",
   "mimetype": "text/x-python",
   "name": "python",
   "nbconvert_exporter": "python",
   "pygments_lexer": "ipython3",
   "version": "3.5.2"
  }
 },
 "nbformat": 4,
 "nbformat_minor": 2
}
